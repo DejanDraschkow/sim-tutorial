{
  "cells": [
    {
      "cell_type": "markdown",
      "source": [
        "# Simulation Tutorial\n### Lisa DeBruine\n### 2020-02-17\n## Setup \n\n### Julia\n\nLoad the packages we'll be using in Julia"
      ],
      "metadata": {}
    },
    {
      "outputs": [],
      "cell_type": "code",
      "source": [
        "using MixedModels        # run mixed models\nusing MixedModelsSim     # simulation functions for mixed models\nusing RCall              # call R functions from inside Julia\nusing DataFrames, Tables # work with data tables\nusing Random, Statistics # statistical functions\nusing CSV                # write CSV files"
      ],
      "metadata": {},
      "execution_count": null
    },
    {
      "cell_type": "markdown",
      "source": [
        "### R\n\nAlso load any packages we'll be using in R through `RCall()`."
      ],
      "metadata": {}
    },
    {
      "outputs": [],
      "cell_type": "code",
      "source": [
        "R\"\"\"\nlibrary(ggplot2) # for visualisation\nlibrary(dplyr)   # for data wrangling\nlibrary(tidyr)   # for data wrangling\n\"\"\";"
      ],
      "metadata": {},
      "execution_count": null
    },
    {
      "cell_type": "markdown",
      "source": [
        "### Define Custom functions\n\nIt's useful to be able to weave your file quickly while you're debugging, \nso set the number of simulations to a relatively low number while you're \nsetting up your script and change it to a larger number when everything\nis debugged."
      ],
      "metadata": {}
    },
    {
      "outputs": [],
      "cell_type": "code",
      "source": [
        "nsims = 1000 # set to a low number for test, high for production"
      ],
      "metadata": {},
      "execution_count": null
    },
    {
      "outputs": [],
      "cell_type": "code",
      "source": [
        "# hopefully in MixedModelsSim soon\n\nfunction sim_to_df(sims)\n    tab = DataFrame()\n    for (i, sim) in enumerate(sims)\n        df = DataFrame(sim)\n        df[!, :iteration] .= i\n        df[!, :var] .= string.(collect(keys(sim)))\n        append!(tab, df)\n    end\n    longtab = stack(tab, 1:(ncol(tab)-2), variable_name = :coefname)\n    widetab = unstack(longtab, :var, :value)\n    rename!(widetab, [\"coefname\", \"iteration\",  \"p\",  \"se\",  \"z\",  \"beta\" ])\n    sort!(widetab, [:iteration])\n    select!(widetab, [:iteration, :coefname, :beta, :se, :z, :p])\nend\n\nfunction power_table(sim, alpha = 0.05)\n    pvals = DataFrame(columntable(sim).p)\n    pvals = stack(pvals) \n    pwr = by(pvals, :variable, :value => x->mean(x.<alpha) )\n    rename!(pwr, [\"coefname\", \"power\"])\nend\n\nfunction simdat_crossed(subj_n = 1, item_n = 1;\n    subj_btwn = nothing, item_btwn = nothing, both_win = nothing)\n\n    # set up subj table\n    if isnothing(subj_btwn)\n        subj_vals = [nlevels(subj_n, \"S\")]\n        sb_vars = []\n    else\n        sc = values(subj_btwn) |> collect\n        sc = vcat([nlevels(subj_n)], sc)\n        subj_prod = Iterators.product(sc...)\n        subj_total_n = length(subj_prod)\n        subj_vals = columntable(subj_prod) |> collect\n        subj_vals[1] = nlevels(subj_total_n, \"S\")\n        sb_vars = collect(keys(subj_btwn))\n    end\n\n    subj_names = vcat([\"subj\"], sb_vars)\n    subj = NamedTuple{Tuple(Symbol.(subj_names))}(subj_vals)\n\n    # set up item table\n    if isnothing(item_btwn)\n        item_vals = [nlevels(item_n, \"I\")]\n        ib_vars = []\n    else\n        ic = values(item_btwn) |> collect\n        ic = vcat([nlevels(item_n, \"I\")], ic)\n        item_prod = Iterators.product(ic...)\n        item_total_n = length(item_prod)\n        item_vals = columntable(item_prod) |> collect\n        item_vals[1] = nlevels(item_total_n, \"I\")\n        ib_vars = collect(keys(item_btwn))\n    end\n\n    item_names = vcat([\"item\"], ib_vars)\n    item = NamedTuple{Tuple(Symbol.(item_names))}(item_vals)\n\n    # set up within both table\n    if (isnothing(both_win))\n        # cross the subject and item tables \n        design = factorproduct(subj, item) |> DataFrame\n    else \n        wc = values(both_win) |> collect\n        win_prod = Iterators.product(wc...)\n        win_vals = columntable(win_prod) |> collect\n        win_names = collect(keys(both_win))\n        win = NamedTuple{Tuple(Symbol.(win_names))}(win_vals)\n\n        # cross the subject and item tables with any within factors \n        design = factorproduct(subj, item, win) |> DataFrame\n    end\n\n    # add random numbers as a DV\n    design.dv = randn(nrow(design))\n\n    design\n\nend"
      ],
      "metadata": {},
      "execution_count": null
    },
    {
      "cell_type": "markdown",
      "source": [
        "#### Define: ggplot_betas\n\nThis function plots the beta values returned from `simulate_waldtests` using ggplot in R.\nIf you set a figname, it will save the plot to the specified file."
      ],
      "metadata": {}
    },
    {
      "outputs": [],
      "cell_type": "code",
      "source": [
        "function ggplot_betas(sim, figname = 0, width = 7, height = 5) \n\n    beta_df = DataFrame(columntable(sim).β)\n\n    R\"\"\"\n        p <- $beta_df %>%\n            gather(var, val, 1:ncol(.)) %>%\n            ggplot(aes(val, color = var)) +\n            geom_density(show.legend = FALSE) +\n            facet_wrap(~var, scales = \"free\")\n\n        if (is.character($figname)) {\n            ggsave($figname, p, width = $width, height = $height)\n        }\n\n        p\n    \"\"\"\nend"
      ],
      "metadata": {},
      "execution_count": null
    },
    {
      "cell_type": "markdown",
      "source": [
        "## Existing Data\n\nLoad existing data from this morning's tutorial. Set the contrasts and run model 4 from the tutorial."
      ],
      "metadata": {}
    },
    {
      "outputs": [],
      "cell_type": "code",
      "source": [
        "# load data\nkb07 = MixedModels.dataset(\"kb07\");\n\n# set contrasts\ncontrasts = Dict(:spkr => HelmertCoding(), \n                 :prec => HelmertCoding(), \n                 :load => HelmertCoding());\n\n# define formula\nkb07_f = @formula( rt_trunc ~ 1 + spkr+prec+load + (1|subj) + (1+prec|item) );\n\n# fit model\nkb07_m = fit(MixedModel, kb07_f, kb07, contrasts=contrasts)"
      ],
      "metadata": {},
      "execution_count": null
    },
    {
      "cell_type": "markdown",
      "source": [
        "### Simulate data with same parameters\n\nUse the `simulate_waldtests()` function to run `j nsims` iterations of data sampled \nusing the parameters from `m4`. Set up a random seed to make the simulation reproducible. \nYou can use your favourite number."
      ],
      "metadata": {}
    },
    {
      "outputs": [],
      "cell_type": "code",
      "source": [
        "# seed for reproducibility\nrng = MersenneTwister(8675309);\n\n# run 1000 iterations\nkb07_sim = simulate_waldtests(rng, nsims, kb07_m, use_threads = true);"
      ],
      "metadata": {},
      "execution_count": null
    },
    {
      "cell_type": "markdown",
      "source": [
        "Save all data to a csv file."
      ],
      "metadata": {}
    },
    {
      "outputs": [],
      "cell_type": "code",
      "source": [
        "kb07_sim_df = sim_to_df(kb07_sim)\n\nCSV.write(\"sim/kb07_sim.csv\", kb07_sim_df)"
      ],
      "metadata": {},
      "execution_count": null
    },
    {
      "cell_type": "markdown",
      "source": [
        "Plot betas in ggplot."
      ],
      "metadata": {}
    },
    {
      "outputs": [],
      "cell_type": "code",
      "source": [
        "ggplot_betas(kb07_sim, \"fig/kb07_betas.png\");"
      ],
      "metadata": {},
      "execution_count": null
    },
    {
      "cell_type": "markdown",
      "source": [
        "![](fig/m4_betas.png)\n\n\n### Power calculation"
      ],
      "metadata": {}
    },
    {
      "outputs": [],
      "cell_type": "code",
      "source": [
        "power_table(kb07_sim)"
      ],
      "metadata": {},
      "execution_count": null
    },
    {
      "cell_type": "markdown",
      "source": [
        "### Change parameters\n\nLet's say we want to check our power to detect effects of spkr, prec, and load \nthat are half the size of our pilot data. We can set a new vector of beta values \nwith the `β` argument to `simulate_waldtests`."
      ],
      "metadata": {}
    },
    {
      "outputs": [],
      "cell_type": "code",
      "source": [
        "newβ = kb07_m.β\nnewβ[2:4] = kb07_m.β[2:4]/2\n\nkb07_sim_half = simulate_waldtests(rng, nsims, kb07_m, β = newβ, use_threads = true);\n\npower_table(kb07_sim_half)"
      ],
      "metadata": {},
      "execution_count": null
    },
    {
      "cell_type": "markdown",
      "source": [
        "# Simulating Data from Scratch\n\n\n## simdat_crossed\n\nWe will set a design where `subj_n` subjects per `age` group (O or Y) respond to `item_n` items in each of two `condition`s (A or B). Create a simulated data structure with `simdat(sub_n, item_n)`.\n\n\nRunning the function with the defaults gives you the general experimental design structure\n(i.e., 1 subject and 1 stimulus in each cell)."
      ],
      "metadata": {}
    },
    {
      "outputs": [],
      "cell_type": "code",
      "source": [
        "# put between-subject factors in a Dict\nsubj_btwn = Dict(\"age\" => [\"O\", \"Y\"])\n\n# put within-subject/item factors in a Dict\nboth_win = Dict(\"condition\" => [\"A\", \"B\"])\n\n# simulate data\ndat = simdat_crossed(10, 30, subj_btwn = subj_btwn, both_win = both_win )"
      ],
      "metadata": {},
      "execution_count": null
    },
    {
      "cell_type": "markdown",
      "source": [
        "```\n\n## Set up model"
      ],
      "metadata": {}
    },
    {
      "outputs": [],
      "cell_type": "code",
      "source": [
        "# set contrasts\ncontrasts = Dict(:age => HelmertCoding(), \n                 :condition => HelmertCoding());\n\nf1 = @formula dv ~ 1 + age * condition + (1|item) + (1|subj);\nm1 = fit(MixedModel, f1, dat, contrasts=contrasts)"
      ],
      "metadata": {},
      "execution_count": null
    },
    {
      "cell_type": "markdown",
      "source": [
        "Because the `dv` is just random numbers from N(0,1), there will be basically no subject or item random variance, residual variance will be near 1.0, and the estimates for all effects should be small. Now we can specify fixed and random effects directly in `simulate_waldtests`. \n\n## Simulate\n\n* Set a seed for reproducibility\n* specify new β, σ, and θ"
      ],
      "metadata": {}
    },
    {
      "outputs": [],
      "cell_type": "code",
      "source": [
        "rng = MersenneTwister(8675309);\n\nnew_beta = [0, 0.25, 0.25, 0]\nnew_sigma = 2.0\nnew_theta = [1.0, 1.0]\n\nsim1 = simulate_waldtests(rng, nsims, m1, \n                        β = new_beta, \n                        σ = new_sigma, \n                        θ = new_theta,\n                        use_threads = true);"
      ],
      "metadata": {},
      "execution_count": null
    },
    {
      "cell_type": "markdown",
      "source": [
        "## Explore simulation output"
      ],
      "metadata": {}
    },
    {
      "outputs": [],
      "cell_type": "code",
      "source": [
        "ggplot_betas(sim1, \"fig/simbetas.png\");"
      ],
      "metadata": {},
      "execution_count": null
    },
    {
      "cell_type": "markdown",
      "source": [
        "![](fig/simbetas.png)\n\n\n## Power"
      ],
      "metadata": {}
    },
    {
      "outputs": [],
      "cell_type": "code",
      "source": [
        "power_table(sim1)"
      ],
      "metadata": {},
      "execution_count": null
    },
    {
      "cell_type": "markdown",
      "source": [
        "## Write a function to vary something"
      ],
      "metadata": {}
    },
    {
      "outputs": [],
      "cell_type": "code",
      "source": [
        "function mysim(subj_n, item_n, nsims = 1000, \n               beta  = [0, 0, 0, 0],\n               sigma = 2.0, \n               theta = [1.0, 1.0],\n               seed = convert(Int64, round(rand()*1e8))\n               )\n    # generate data\n    dat = simdat_crossed(subj_n, item_n, subj_btwn = subj_btwn, both_win = both_win )\n\n    # set contrasts\n    contrasts = Dict(:age => HelmertCoding(), \n                     :condition => HelmertCoding());\n\n    # set up model\n    f = @formula dv ~ 1 + age*condition + (1|item) + (1|subj);\n    m = fit(MixedModel, f, dat, contrasts=contrasts)\n\n    # run simulation\n    rng = MersenneTwister(seed);\n\n    simulate_waldtests(\n        rng, nsims, m, \n        β = beta, \n        σ = sigma, \n        θ = theta, \n        use_threads = true\n    );\nend"
      ],
      "metadata": {},
      "execution_count": null
    },
    {
      "cell_type": "markdown",
      "source": [
        "Run simulations over a range of values for any parameter."
      ],
      "metadata": {}
    },
    {
      "outputs": [],
      "cell_type": "code",
      "source": [
        "# varying\nsubj_ns = [20, 30, 40]\nitem_ns = [10, 20, 30]\n\n# fixed\nnsims = 1000\nnew_beta = [0, 0.4, 0.1, 0]\nnew_sigma = 2.0\nnew_theta = [1.0, 1.0]\n\nd = DataFrame()\n\nfor subj_n in subj_ns\n    for item_n in item_ns\n        s = mysim(subj_n, item_n, nsims, new_beta, new_sigma, new_theta);\n        pt = power_table(s)\n        pt[!, :item_n] .= item_n\n        pt[!, :sub_n] .= subj_n\n        append!(d, pt)\n    end\nend\n\n# save the data in long format\nCSV.write(\"sim/power.csv\", d)\n\n# spread the table for easier viewing\nunstack(d, :coefname, :power)"
      ],
      "metadata": {},
      "execution_count": null
    },
    {
      "cell_type": "markdown",
      "source": [
        "## Convert this file"
      ],
      "metadata": {}
    },
    {
      "outputs": [],
      "cell_type": "code",
      "source": [
        "# using Weave\n\n# convert to html\n# weave(\"simulation_tutorial.jmd\")\n\n# convert to a python notebook\n# convert_doc(\"simulation_tutorial.jmd\", \"simulation_tutorial.ipynb\")\n\n# convert to md for README\n# weave(\"simulation_tutorial.jmd\", doctype=\"pandoc\", out.path = \"README.md\")"
      ],
      "metadata": {},
      "execution_count": null
    }
  ],
  "nbformat_minor": 2,
  "metadata": {
    "language_info": {
      "file_extension": ".jl",
      "mimetype": "application/julia",
      "name": "julia",
      "version": "1.3.1"
    },
    "kernelspec": {
      "name": "julia-1.3",
      "display_name": "Julia 1.3.1",
      "language": "julia"
    }
  },
  "nbformat": 4
}
